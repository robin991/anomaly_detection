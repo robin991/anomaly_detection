{
 "cells": [
  {
   "cell_type": "code",
   "execution_count": 14,
   "metadata": {},
   "outputs": [],
   "source": [
    "import pandas as pd\n",
    "import matplotlib.pyplot as plt\n",
    "import numpy as np\n",
    "\n",
    "%matplotlib inline"
   ]
  },
  {
   "attachments": {},
   "cell_type": "markdown",
   "metadata": {},
   "source": [
    "Two ways to identify outliers:\n",
    ">1. Z score : https://www.youtube.com/watch?v=R-P8qEGXnBs  \n",
    ">    https://www.youtube.com/watch?v=MicmZlGfGJg&pp=ygUPc3RhdHMgcXVlc3Rpb25z\n",
    ">2. IQR\n",
    ">3. SCATTER PLOT\n",
    ">4. Box Plot\n",
    ">5. percentile method : https://www.youtube.com/watch?v=bcXA4CqRXvM&t=285s\n",
    ">6. Winsorization"
   ]
  },
  {
   "attachments": {},
   "cell_type": "markdown",
   "metadata": {},
   "source": [
    "## Detecting Outlier using Z score"
   ]
  },
  {
   "cell_type": "code",
   "execution_count": 12,
   "metadata": {},
   "outputs": [],
   "source": [
    "df = pd.read_csv(r\"src/challenger.csv\")"
   ]
  },
  {
   "cell_type": "code",
   "execution_count": 13,
   "metadata": {},
   "outputs": [
    {
     "data": {
      "text/html": [
       "<div>\n",
       "<style scoped>\n",
       "    .dataframe tbody tr th:only-of-type {\n",
       "        vertical-align: middle;\n",
       "    }\n",
       "\n",
       "    .dataframe tbody tr th {\n",
       "        vertical-align: top;\n",
       "    }\n",
       "\n",
       "    .dataframe thead th {\n",
       "        text-align: right;\n",
       "    }\n",
       "</style>\n",
       "<table border=\"1\" class=\"dataframe\">\n",
       "  <thead>\n",
       "    <tr style=\"text-align: right;\">\n",
       "      <th></th>\n",
       "      <th>o_ring_ct</th>\n",
       "      <th>distress_ct</th>\n",
       "      <th>temperature</th>\n",
       "      <th>pressure</th>\n",
       "      <th>launch_id</th>\n",
       "    </tr>\n",
       "  </thead>\n",
       "  <tbody>\n",
       "    <tr>\n",
       "      <th>0</th>\n",
       "      <td>6</td>\n",
       "      <td>0</td>\n",
       "      <td>66</td>\n",
       "      <td>50</td>\n",
       "      <td>1</td>\n",
       "    </tr>\n",
       "    <tr>\n",
       "      <th>1</th>\n",
       "      <td>6</td>\n",
       "      <td>1</td>\n",
       "      <td>70</td>\n",
       "      <td>50</td>\n",
       "      <td>2</td>\n",
       "    </tr>\n",
       "    <tr>\n",
       "      <th>2</th>\n",
       "      <td>6</td>\n",
       "      <td>0</td>\n",
       "      <td>69</td>\n",
       "      <td>50</td>\n",
       "      <td>3</td>\n",
       "    </tr>\n",
       "    <tr>\n",
       "      <th>3</th>\n",
       "      <td>6</td>\n",
       "      <td>0</td>\n",
       "      <td>68</td>\n",
       "      <td>50</td>\n",
       "      <td>4</td>\n",
       "    </tr>\n",
       "    <tr>\n",
       "      <th>4</th>\n",
       "      <td>6</td>\n",
       "      <td>0</td>\n",
       "      <td>67</td>\n",
       "      <td>50</td>\n",
       "      <td>5</td>\n",
       "    </tr>\n",
       "  </tbody>\n",
       "</table>\n",
       "</div>"
      ],
      "text/plain": [
       "   o_ring_ct  distress_ct  temperature  pressure  launch_id\n",
       "0          6            0           66        50          1\n",
       "1          6            1           70        50          2\n",
       "2          6            0           69        50          3\n",
       "3          6            0           68        50          4\n",
       "4          6            0           67        50          5"
      ]
     },
     "execution_count": 13,
     "metadata": {},
     "output_type": "execute_result"
    }
   ],
   "source": [
    "df.head()"
   ]
  },
  {
   "cell_type": "code",
   "execution_count": 44,
   "metadata": {},
   "outputs": [],
   "source": [
    "outlier = []\n",
    "\n",
    "threshold = 3\n",
    "\n",
    "data = np.random.randint(3, 20,30).tolist()\n",
    "data.append(2000)\n",
    "\n",
    "mean  = np.mean(data)\n",
    "std = np.std(data)\n",
    "\n",
    "for i in data :\n",
    "    z_score = (i-mean)/std  \n",
    "    if np.abs(z_score) > threshold : \n",
    "        outlier.append(i)\n",
    "\n"
   ]
  },
  {
   "cell_type": "code",
   "execution_count": 46,
   "metadata": {},
   "outputs": [
    {
     "data": {
      "text/plain": [
       "[2000]"
      ]
     },
     "execution_count": 46,
     "metadata": {},
     "output_type": "execute_result"
    }
   ],
   "source": [
    "outlier"
   ]
  },
  {
   "attachments": {},
   "cell_type": "markdown",
   "metadata": {},
   "source": [
    "## Detecting outlier using IQR"
   ]
  },
  {
   "cell_type": "code",
   "execution_count": 63,
   "metadata": {},
   "outputs": [],
   "source": [
    "data = np.random.randint(3,20,30).tolist()\n",
    "\n",
    "data.extend([52,-43,70])\n",
    "\n"
   ]
  },
  {
   "cell_type": "code",
   "execution_count": 64,
   "metadata": {},
   "outputs": [
    {
     "data": {
      "text/plain": [
       "{'whiskers': [<matplotlib.lines.Line2D at 0x1ae8e8baa60>,\n",
       "  <matplotlib.lines.Line2D at 0x1ae8e8badf0>],\n",
       " 'caps': [<matplotlib.lines.Line2D at 0x1ae8e8c71c0>,\n",
       "  <matplotlib.lines.Line2D at 0x1ae8e8c7550>],\n",
       " 'boxes': [<matplotlib.lines.Line2D at 0x1ae8e8ba6d0>],\n",
       " 'medians': [<matplotlib.lines.Line2D at 0x1ae8e8c78e0>],\n",
       " 'fliers': [<matplotlib.lines.Line2D at 0x1ae8e8c7c70>],\n",
       " 'means': []}"
      ]
     },
     "execution_count": 64,
     "metadata": {},
     "output_type": "execute_result"
    },
    {
     "data": {
      "image/png": "[encoded data removed]",
      "text/plain": [
       "<Figure size 432x288 with 1 Axes>"
      ]
     },
     "metadata": {
      "needs_background": "light"
     },
     "output_type": "display_data"
    }
   ],
   "source": [
    "# getting the box plot of the data to show outlier\n",
    "\n",
    "plt.boxplot(data)"
   ]
  },
  {
   "cell_type": "code",
   "execution_count": 65,
   "metadata": {},
   "outputs": [],
   "source": [
    "# extract 25th and 75th percentile values\n",
    "data25, data75 = np.percentile(data,[25,75])"
   ]
  },
  {
   "cell_type": "code",
   "execution_count": 66,
   "metadata": {},
   "outputs": [],
   "source": [
    "iqr  = data75-data25\n",
    "\n",
    "# find lower and upper fence\n",
    "\n",
    "lower_fence = data25-(1.5*iqr)\n",
    "\n",
    "upper_fence = data75+(1.5*iqr)"
   ]
  },
  {
   "cell_type": "code",
   "execution_count": 67,
   "metadata": {},
   "outputs": [
    {
     "name": "stdout",
     "output_type": "stream",
     "text": [
      "upper and lower fence value is  32.0 -8.0\n"
     ]
    }
   ],
   "source": [
    "print('upper and lower fence value is ',upper_fence, lower_fence)"
   ]
  },
  {
   "attachments": {},
   "cell_type": "markdown",
   "metadata": {},
   "source": [
    "values less that or greater than the lower and upper fence would be considered as outliers as per IQR method"
   ]
  },
  {
   "attachments": {},
   "cell_type": "markdown",
   "metadata": {},
   "source": [
    "## Percentile Method"
   ]
  },
  {
   "cell_type": "code",
   "execution_count": 105,
   "metadata": {},
   "outputs": [],
   "source": [
    "# read pandas dataframe for other analysis\n",
    "\n",
    "df_2 = pd.read_csv(r\"src/exercise_dataset.csv\")"
   ]
  },
  {
   "cell_type": "code",
   "execution_count": 106,
   "metadata": {},
   "outputs": [
    {
     "data": {
      "text/html": [
       "<div>\n",
       "<style scoped>\n",
       "    .dataframe tbody tr th:only-of-type {\n",
       "        vertical-align: middle;\n",
       "    }\n",
       "\n",
       "    .dataframe tbody tr th {\n",
       "        vertical-align: top;\n",
       "    }\n",
       "\n",
       "    .dataframe thead th {\n",
       "        text-align: right;\n",
       "    }\n",
       "</style>\n",
       "<table border=\"1\" class=\"dataframe\">\n",
       "  <thead>\n",
       "    <tr style=\"text-align: right;\">\n",
       "      <th></th>\n",
       "      <th>ID</th>\n",
       "      <th>Exercise</th>\n",
       "      <th>Calories Burn</th>\n",
       "      <th>Dream Weight</th>\n",
       "      <th>Actual Weight</th>\n",
       "      <th>Age</th>\n",
       "      <th>Gender</th>\n",
       "      <th>Duration</th>\n",
       "      <th>Heart Rate</th>\n",
       "      <th>BMI</th>\n",
       "      <th>Weather Conditions</th>\n",
       "      <th>Exercise Intensity</th>\n",
       "    </tr>\n",
       "  </thead>\n",
       "  <tbody>\n",
       "    <tr>\n",
       "      <th>0</th>\n",
       "      <td>1</td>\n",
       "      <td>Exercise 2</td>\n",
       "      <td>286.959851</td>\n",
       "      <td>91.892531</td>\n",
       "      <td>96.301115</td>\n",
       "      <td>45</td>\n",
       "      <td>Male</td>\n",
       "      <td>37</td>\n",
       "      <td>170</td>\n",
       "      <td>29.426275</td>\n",
       "      <td>Rainy</td>\n",
       "      <td>5</td>\n",
       "    </tr>\n",
       "    <tr>\n",
       "      <th>1</th>\n",
       "      <td>2</td>\n",
       "      <td>Exercise 7</td>\n",
       "      <td>343.453036</td>\n",
       "      <td>64.165097</td>\n",
       "      <td>61.104668</td>\n",
       "      <td>25</td>\n",
       "      <td>Male</td>\n",
       "      <td>43</td>\n",
       "      <td>142</td>\n",
       "      <td>21.286346</td>\n",
       "      <td>Rainy</td>\n",
       "      <td>5</td>\n",
       "    </tr>\n",
       "    <tr>\n",
       "      <th>2</th>\n",
       "      <td>3</td>\n",
       "      <td>Exercise 4</td>\n",
       "      <td>261.223465</td>\n",
       "      <td>70.846224</td>\n",
       "      <td>71.766724</td>\n",
       "      <td>20</td>\n",
       "      <td>Male</td>\n",
       "      <td>20</td>\n",
       "      <td>148</td>\n",
       "      <td>27.899592</td>\n",
       "      <td>Cloudy</td>\n",
       "      <td>4</td>\n",
       "    </tr>\n",
       "    <tr>\n",
       "      <th>3</th>\n",
       "      <td>4</td>\n",
       "      <td>Exercise 5</td>\n",
       "      <td>127.183858</td>\n",
       "      <td>79.477008</td>\n",
       "      <td>82.984456</td>\n",
       "      <td>33</td>\n",
       "      <td>Male</td>\n",
       "      <td>39</td>\n",
       "      <td>170</td>\n",
       "      <td>33.729552</td>\n",
       "      <td>Sunny</td>\n",
       "      <td>10</td>\n",
       "    </tr>\n",
       "    <tr>\n",
       "      <th>4</th>\n",
       "      <td>5</td>\n",
       "      <td>Exercise 10</td>\n",
       "      <td>416.318374</td>\n",
       "      <td>89.960226</td>\n",
       "      <td>85.643174</td>\n",
       "      <td>29</td>\n",
       "      <td>Female</td>\n",
       "      <td>34</td>\n",
       "      <td>118</td>\n",
       "      <td>23.286113</td>\n",
       "      <td>Cloudy</td>\n",
       "      <td>3</td>\n",
       "    </tr>\n",
       "  </tbody>\n",
       "</table>\n",
       "</div>"
      ],
      "text/plain": [
       "   ID     Exercise  Calories Burn  Dream Weight  Actual Weight  Age  Gender  \\\n",
       "0   1   Exercise 2     286.959851     91.892531      96.301115   45    Male   \n",
       "1   2   Exercise 7     343.453036     64.165097      61.104668   25    Male   \n",
       "2   3   Exercise 4     261.223465     70.846224      71.766724   20    Male   \n",
       "3   4   Exercise 5     127.183858     79.477008      82.984456   33    Male   \n",
       "4   5  Exercise 10     416.318374     89.960226      85.643174   29  Female   \n",
       "\n",
       "   Duration  Heart Rate        BMI Weather Conditions  Exercise Intensity  \n",
       "0        37         170  29.426275              Rainy                   5  \n",
       "1        43         142  21.286346              Rainy                   5  \n",
       "2        20         148  27.899592             Cloudy                   4  \n",
       "3        39         170  33.729552              Sunny                  10  \n",
       "4        34         118  23.286113             Cloudy                   3  "
      ]
     },
     "execution_count": 106,
     "metadata": {},
     "output_type": "execute_result"
    }
   ],
   "source": [
    "df_2.head()"
   ]
  },
  {
   "cell_type": "code",
   "execution_count": 107,
   "metadata": {},
   "outputs": [
    {
     "data": {
      "text/html": [
       "<div>\n",
       "<style scoped>\n",
       "    .dataframe tbody tr th:only-of-type {\n",
       "        vertical-align: middle;\n",
       "    }\n",
       "\n",
       "    .dataframe tbody tr th {\n",
       "        vertical-align: top;\n",
       "    }\n",
       "\n",
       "    .dataframe thead th {\n",
       "        text-align: right;\n",
       "    }\n",
       "</style>\n",
       "<table border=\"1\" class=\"dataframe\">\n",
       "  <thead>\n",
       "    <tr style=\"text-align: right;\">\n",
       "      <th></th>\n",
       "      <th>ID</th>\n",
       "      <th>Calories Burn</th>\n",
       "      <th>Dream Weight</th>\n",
       "      <th>Actual Weight</th>\n",
       "      <th>Age</th>\n",
       "      <th>Duration</th>\n",
       "      <th>Heart Rate</th>\n",
       "      <th>BMI</th>\n",
       "      <th>Exercise Intensity</th>\n",
       "    </tr>\n",
       "  </thead>\n",
       "  <tbody>\n",
       "    <tr>\n",
       "      <th>count</th>\n",
       "      <td>3864.000000</td>\n",
       "      <td>3864.000000</td>\n",
       "      <td>3864.000000</td>\n",
       "      <td>3864.000000</td>\n",
       "      <td>3864.000000</td>\n",
       "      <td>3864.000000</td>\n",
       "      <td>3864.000000</td>\n",
       "      <td>3864.000000</td>\n",
       "      <td>3864.000000</td>\n",
       "    </tr>\n",
       "    <tr>\n",
       "      <th>mean</th>\n",
       "      <td>1932.500000</td>\n",
       "      <td>301.861806</td>\n",
       "      <td>75.139263</td>\n",
       "      <td>75.188440</td>\n",
       "      <td>39.621118</td>\n",
       "      <td>40.190994</td>\n",
       "      <td>139.777950</td>\n",
       "      <td>26.801977</td>\n",
       "      <td>5.457298</td>\n",
       "    </tr>\n",
       "    <tr>\n",
       "      <th>std</th>\n",
       "      <td>1115.585048</td>\n",
       "      <td>115.828604</td>\n",
       "      <td>14.545824</td>\n",
       "      <td>14.845511</td>\n",
       "      <td>12.521721</td>\n",
       "      <td>11.765957</td>\n",
       "      <td>23.447528</td>\n",
       "      <td>4.746745</td>\n",
       "      <td>2.850896</td>\n",
       "    </tr>\n",
       "    <tr>\n",
       "      <th>min</th>\n",
       "      <td>1.000000</td>\n",
       "      <td>100.009403</td>\n",
       "      <td>50.001984</td>\n",
       "      <td>45.783747</td>\n",
       "      <td>18.000000</td>\n",
       "      <td>20.000000</td>\n",
       "      <td>100.000000</td>\n",
       "      <td>18.500014</td>\n",
       "      <td>1.000000</td>\n",
       "    </tr>\n",
       "    <tr>\n",
       "      <th>25%</th>\n",
       "      <td>966.750000</td>\n",
       "      <td>202.168837</td>\n",
       "      <td>62.373585</td>\n",
       "      <td>62.476906</td>\n",
       "      <td>29.000000</td>\n",
       "      <td>30.000000</td>\n",
       "      <td>119.000000</td>\n",
       "      <td>22.686774</td>\n",
       "      <td>3.000000</td>\n",
       "    </tr>\n",
       "    <tr>\n",
       "      <th>50%</th>\n",
       "      <td>1932.500000</td>\n",
       "      <td>299.742508</td>\n",
       "      <td>75.522136</td>\n",
       "      <td>75.544407</td>\n",
       "      <td>40.000000</td>\n",
       "      <td>40.000000</td>\n",
       "      <td>140.000000</td>\n",
       "      <td>26.861656</td>\n",
       "      <td>5.000000</td>\n",
       "    </tr>\n",
       "    <tr>\n",
       "      <th>75%</th>\n",
       "      <td>2898.250000</td>\n",
       "      <td>404.143688</td>\n",
       "      <td>87.707989</td>\n",
       "      <td>88.105767</td>\n",
       "      <td>51.000000</td>\n",
       "      <td>51.000000</td>\n",
       "      <td>160.000000</td>\n",
       "      <td>30.950380</td>\n",
       "      <td>8.000000</td>\n",
       "    </tr>\n",
       "    <tr>\n",
       "      <th>max</th>\n",
       "      <td>3864.000000</td>\n",
       "      <td>499.859262</td>\n",
       "      <td>99.985355</td>\n",
       "      <td>104.309600</td>\n",
       "      <td>60.000000</td>\n",
       "      <td>60.000000</td>\n",
       "      <td>180.000000</td>\n",
       "      <td>34.996639</td>\n",
       "      <td>10.000000</td>\n",
       "    </tr>\n",
       "  </tbody>\n",
       "</table>\n",
       "</div>"
      ],
      "text/plain": [
       "                ID  Calories Burn  Dream Weight  Actual Weight          Age  \\\n",
       "count  3864.000000    3864.000000   3864.000000    3864.000000  3864.000000   \n",
       "mean   1932.500000     301.861806     75.139263      75.188440    39.621118   \n",
       "std    1115.585048     115.828604     14.545824      14.845511    12.521721   \n",
       "min       1.000000     100.009403     50.001984      45.783747    18.000000   \n",
       "25%     966.750000     202.168837     62.373585      62.476906    29.000000   \n",
       "50%    1932.500000     299.742508     75.522136      75.544407    40.000000   \n",
       "75%    2898.250000     404.143688     87.707989      88.105767    51.000000   \n",
       "max    3864.000000     499.859262     99.985355     104.309600    60.000000   \n",
       "\n",
       "          Duration   Heart Rate          BMI  Exercise Intensity  \n",
       "count  3864.000000  3864.000000  3864.000000         3864.000000  \n",
       "mean     40.190994   139.777950    26.801977            5.457298  \n",
       "std      11.765957    23.447528     4.746745            2.850896  \n",
       "min      20.000000   100.000000    18.500014            1.000000  \n",
       "25%      30.000000   119.000000    22.686774            3.000000  \n",
       "50%      40.000000   140.000000    26.861656            5.000000  \n",
       "75%      51.000000   160.000000    30.950380            8.000000  \n",
       "max      60.000000   180.000000    34.996639           10.000000  "
      ]
     },
     "execution_count": 107,
     "metadata": {},
     "output_type": "execute_result"
    }
   ],
   "source": [
    "df_2.describe()"
   ]
  },
  {
   "cell_type": "code",
   "execution_count": 109,
   "metadata": {},
   "outputs": [
    {
     "data": {
      "text/plain": [
       "(3864, 12)"
      ]
     },
     "execution_count": 109,
     "metadata": {},
     "output_type": "execute_result"
    }
   ],
   "source": [
    "df_2.shape"
   ]
  },
  {
   "cell_type": "code",
   "execution_count": 110,
   "metadata": {},
   "outputs": [],
   "source": [
    "# filtering numerical values from the dataset\n",
    "df_2_num = df_2.select_dtypes(include =['float64','int64'])"
   ]
  },
  {
   "cell_type": "code",
   "execution_count": 111,
   "metadata": {},
   "outputs": [],
   "source": [
    "lower_limit  = df_2['Calories Burn'].quantile(0.01)\n",
    "upper_limit = df_2['Calories Burn'].quantile(0.99)\n"
   ]
  },
  {
   "cell_type": "code",
   "execution_count": 115,
   "metadata": {},
   "outputs": [],
   "source": [
    "df_2_new = df_2[(df_2['Calories Burn']>lower_limit) & (df_2['Calories Burn']<upper_limit)]"
   ]
  },
  {
   "cell_type": "code",
   "execution_count": 116,
   "metadata": {},
   "outputs": [
    {
     "data": {
      "text/plain": [
       "(3786, 12)"
      ]
     },
     "execution_count": 116,
     "metadata": {},
     "output_type": "execute_result"
    }
   ],
   "source": [
    "df_2_new.shape"
   ]
  },
  {
   "attachments": {},
   "cell_type": "markdown",
   "metadata": {},
   "source": [
    "we can see the that rows have reduced as per the percentile values 0.01 and 0.99 "
   ]
  },
  {
   "cell_type": "code",
   "execution_count": null,
   "metadata": {},
   "outputs": [],
   "source": []
  },
  {
   "cell_type": "code",
   "execution_count": null,
   "metadata": {},
   "outputs": [],
   "source": []
  },
  {
   "cell_type": "code",
   "execution_count": null,
   "metadata": {},
   "outputs": [],
   "source": []
  },
  {
   "cell_type": "code",
   "execution_count": null,
   "metadata": {},
   "outputs": [],
   "source": []
  },
  {
   "cell_type": "code",
   "execution_count": null,
   "metadata": {},
   "outputs": [],
   "source": []
  }
 ],
 "metadata": {
  "kernelspec": {
   "display_name": "data_science",
   "language": "python",
   "name": "python3"
  },
  "language_info": {
   "codemirror_mode": {
    "name": "ipython",
    "version": 3
   },
   "file_extension": ".py",
   "mimetype": "text/x-python",
   "name": "python",
   "nbconvert_exporter": "python",
   "pygments_lexer": "ipython3",
   "version": "3.9.4"
  },
  "orig_nbformat": 4
 },
 "nbformat": 4,
 "nbformat_minor": 2
}
